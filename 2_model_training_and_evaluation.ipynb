{
 "cells": [
  {
   "cell_type": "code",
   "execution_count": 1,
   "metadata": {},
   "outputs": [],
   "source": [
    "from sklearn.feature_extraction.text import CountVectorizer\n",
    "import pandas as pd\n",
    "from sklearn.naive_bayes import MultinomialNB\n",
    "from sklearn.linear_model import LogisticRegression\n",
    "from sklearn.feature_extraction.text import TfidfTransformer\n",
    "import numpy as np\n",
    "from sklearn.model_selection import train_test_split\n",
    "from sklearn.linear_model import LogisticRegressionCV\n",
    "import seaborn as sns\n",
    "import matplotlib.pyplot as plt\n",
    "from sklearn.metrics import accuracy_score, precision_score, recall_score, confusion_matrix, f1_score\n",
    "from imblearn.under_sampling import RandomUnderSampler, NearMiss\n",
    "from imblearn.over_sampling import RandomOverSampler, SMOTE\n",
    "import jieba"
   ]
  },
  {
   "cell_type": "markdown",
   "metadata": {},
   "source": [
    "## read in the data"
   ]
  },
  {
   "cell_type": "code",
   "execution_count": 2,
   "metadata": {},
   "outputs": [],
   "source": [
    "f = open('sliced_tang.txt', 'r', encoding='utf-8')\n",
    "corpus = []\n",
    "for i in f:\n",
    "    corpus.append(i)"
   ]
  },
  {
   "cell_type": "code",
   "execution_count": 3,
   "metadata": {},
   "outputs": [],
   "source": [
    "f2 = open('sliced_song.txt', 'r', encoding='utf-8')\n",
    "for i in f2:\n",
    "    corpus.append(i)"
   ]
  },
  {
   "cell_type": "code",
   "execution_count": 4,
   "metadata": {},
   "outputs": [],
   "source": [
    "f3 = open('sliced_ming.txt', 'r', encoding='utf-8')\n",
    "for i in f3:\n",
    "    corpus.append(i)"
   ]
  },
  {
   "cell_type": "code",
   "execution_count": 5,
   "metadata": {},
   "outputs": [],
   "source": [
    "f4 = open('sliced_qing.txt', 'r', encoding='utf-8')\n",
    "for i in f4:\n",
    "    corpus.append(i)"
   ]
  },
  {
   "cell_type": "code",
   "execution_count": 6,
   "metadata": {},
   "outputs": [],
   "source": [
    "#X = pd.DataFrame(data=corpus, columns=['lyrics'])\n",
    "X = corpus\n",
    "y = [1] * 500 + [2] * 500 + [3] * 500 + [4] * 500\n",
    "y = pd.Series(y) "
   ]
  },
  {
   "cell_type": "code",
   "execution_count": 7,
   "metadata": {},
   "outputs": [
    {
     "data": {
      "text/plain": [
       "(2000, 2000)"
      ]
     },
     "execution_count": 7,
     "metadata": {},
     "output_type": "execute_result"
    }
   ],
   "source": [
    "len(X), len(y)"
   ]
  },
  {
   "cell_type": "markdown",
   "metadata": {},
   "source": [
    "## TT-split"
   ]
  },
  {
   "cell_type": "code",
   "execution_count": 116,
   "metadata": {},
   "outputs": [],
   "source": [
    "X_train, X_test, y_train, y_test = train_test_split(X, y, random_state=1)"
   ]
  },
  {
   "cell_type": "code",
   "execution_count": 117,
   "metadata": {},
   "outputs": [
    {
     "data": {
      "text/plain": [
       "(1500, 500, (1500,), (500,))"
      ]
     },
     "execution_count": 117,
     "metadata": {},
     "output_type": "execute_result"
    }
   ],
   "source": [
    "len(X_train), len(X_test), y_train.shape, y_test.shape"
   ]
  },
  {
   "cell_type": "markdown",
   "metadata": {},
   "source": [
    "## now vectorize and normalize the data (transform word into sparse matrix, certain \"superfluous\" words are not counted)"
   ]
  },
  {
   "cell_type": "code",
   "execution_count": 118,
   "metadata": {},
   "outputs": [],
   "source": [
    "#define new tokenizer that works for chinese:\n",
    "def tokenize_zh(text):\n",
    "    words = jieba.lcut(text, cut_all=True, HMM=True) #maybe later change features cut_all=False, HMM=False\n",
    "    return words"
   ]
  },
  {
   "cell_type": "code",
   "execution_count": 119,
   "metadata": {},
   "outputs": [],
   "source": [
    "m = MultinomialNB(alpha=2)\n",
    "cv = CountVectorizer(tokenizer=tokenize_zh, min_df=2, max_df=30, ngram_range=(1,2)) #min_df=2, max_df=60, ngram_range=(2,2)) #, max_df=30, ngram_range=(1,2)\n",
    "tfi = TfidfTransformer()"
   ]
  },
  {
   "cell_type": "code",
   "execution_count": 120,
   "metadata": {},
   "outputs": [],
   "source": [
    "X_train_cv = cv.fit_transform(X_train)\n",
    "X_train_cvtfi = tfi.fit_transform(X_train_cv)\n",
    "X_train_cvtfi = pd.DataFrame(X_train_cvtfi.todense(), columns=cv.get_feature_names())"
   ]
  },
  {
   "cell_type": "code",
   "execution_count": 121,
   "metadata": {},
   "outputs": [
    {
     "data": {
      "text/plain": [
       "((1500, 24129), (1500,))"
      ]
     },
     "execution_count": 121,
     "metadata": {},
     "output_type": "execute_result"
    }
   ],
   "source": [
    "X_train_cvtfi.shape, y_train.shape"
   ]
  },
  {
   "cell_type": "code",
   "execution_count": 122,
   "metadata": {},
   "outputs": [],
   "source": [
    "#X_train_cvtfi.drop(['\\n', 'anotherversionreads'], axis=1, inplace=True)    #df.drop(['B', 'C'], axis=1)"
   ]
  },
  {
   "cell_type": "code",
   "execution_count": 123,
   "metadata": {},
   "outputs": [
    {
     "data": {
      "text/html": [
       "<div>\n",
       "<style scoped>\n",
       "    .dataframe tbody tr th:only-of-type {\n",
       "        vertical-align: middle;\n",
       "    }\n",
       "\n",
       "    .dataframe tbody tr th {\n",
       "        vertical-align: top;\n",
       "    }\n",
       "\n",
       "    .dataframe thead th {\n",
       "        text-align: right;\n",
       "    }\n",
       "</style>\n",
       "<table border=\"1\" class=\"dataframe\">\n",
       "  <thead>\n",
       "    <tr style=\"text-align: right;\">\n",
       "      <th></th>\n",
       "      <th>一</th>\n",
       "      <th>一 之</th>\n",
       "      <th>一 乘</th>\n",
       "      <th>一 也</th>\n",
       "      <th>一 云</th>\n",
       "      <th>一 井</th>\n",
       "      <th>一 交</th>\n",
       "      <th>一 以</th>\n",
       "      <th>一 作</th>\n",
       "      <th>一 使</th>\n",
       "      <th>...</th>\n",
       "      <th>龍 為</th>\n",
       "      <th>龍 王</th>\n",
       "      <th>龍 王道</th>\n",
       "      <th>龍 虎</th>\n",
       "      <th>龍 道</th>\n",
       "      <th>龍 首</th>\n",
       "      <th>龐</th>\n",
       "      <th>龔</th>\n",
       "      <th>龜</th>\n",
       "      <th>龜 每</th>\n",
       "    </tr>\n",
       "  </thead>\n",
       "  <tbody>\n",
       "    <tr>\n",
       "      <th>0</th>\n",
       "      <td>0.0</td>\n",
       "      <td>0.0</td>\n",
       "      <td>0.0</td>\n",
       "      <td>0.0</td>\n",
       "      <td>0.0</td>\n",
       "      <td>0.0</td>\n",
       "      <td>0.0</td>\n",
       "      <td>0.0</td>\n",
       "      <td>0.0</td>\n",
       "      <td>0.0</td>\n",
       "      <td>...</td>\n",
       "      <td>0.0</td>\n",
       "      <td>0.0</td>\n",
       "      <td>0.0</td>\n",
       "      <td>0.0</td>\n",
       "      <td>0.0</td>\n",
       "      <td>0.0</td>\n",
       "      <td>0.0</td>\n",
       "      <td>0.0</td>\n",
       "      <td>0.0</td>\n",
       "      <td>0.0</td>\n",
       "    </tr>\n",
       "    <tr>\n",
       "      <th>1</th>\n",
       "      <td>0.0</td>\n",
       "      <td>0.0</td>\n",
       "      <td>0.0</td>\n",
       "      <td>0.0</td>\n",
       "      <td>0.0</td>\n",
       "      <td>0.0</td>\n",
       "      <td>0.0</td>\n",
       "      <td>0.0</td>\n",
       "      <td>0.0</td>\n",
       "      <td>0.0</td>\n",
       "      <td>...</td>\n",
       "      <td>0.0</td>\n",
       "      <td>0.0</td>\n",
       "      <td>0.0</td>\n",
       "      <td>0.0</td>\n",
       "      <td>0.0</td>\n",
       "      <td>0.0</td>\n",
       "      <td>0.0</td>\n",
       "      <td>0.0</td>\n",
       "      <td>0.0</td>\n",
       "      <td>0.0</td>\n",
       "    </tr>\n",
       "    <tr>\n",
       "      <th>2</th>\n",
       "      <td>0.0</td>\n",
       "      <td>0.0</td>\n",
       "      <td>0.0</td>\n",
       "      <td>0.0</td>\n",
       "      <td>0.0</td>\n",
       "      <td>0.0</td>\n",
       "      <td>0.0</td>\n",
       "      <td>0.0</td>\n",
       "      <td>0.0</td>\n",
       "      <td>0.0</td>\n",
       "      <td>...</td>\n",
       "      <td>0.0</td>\n",
       "      <td>0.0</td>\n",
       "      <td>0.0</td>\n",
       "      <td>0.0</td>\n",
       "      <td>0.0</td>\n",
       "      <td>0.0</td>\n",
       "      <td>0.0</td>\n",
       "      <td>0.0</td>\n",
       "      <td>0.0</td>\n",
       "      <td>0.0</td>\n",
       "    </tr>\n",
       "    <tr>\n",
       "      <th>3</th>\n",
       "      <td>0.0</td>\n",
       "      <td>0.0</td>\n",
       "      <td>0.0</td>\n",
       "      <td>0.0</td>\n",
       "      <td>0.0</td>\n",
       "      <td>0.0</td>\n",
       "      <td>0.0</td>\n",
       "      <td>0.0</td>\n",
       "      <td>0.0</td>\n",
       "      <td>0.0</td>\n",
       "      <td>...</td>\n",
       "      <td>0.0</td>\n",
       "      <td>0.0</td>\n",
       "      <td>0.0</td>\n",
       "      <td>0.0</td>\n",
       "      <td>0.0</td>\n",
       "      <td>0.0</td>\n",
       "      <td>0.0</td>\n",
       "      <td>0.0</td>\n",
       "      <td>0.0</td>\n",
       "      <td>0.0</td>\n",
       "    </tr>\n",
       "    <tr>\n",
       "      <th>4</th>\n",
       "      <td>0.0</td>\n",
       "      <td>0.0</td>\n",
       "      <td>0.0</td>\n",
       "      <td>0.0</td>\n",
       "      <td>0.0</td>\n",
       "      <td>0.0</td>\n",
       "      <td>0.0</td>\n",
       "      <td>0.0</td>\n",
       "      <td>0.0</td>\n",
       "      <td>0.0</td>\n",
       "      <td>...</td>\n",
       "      <td>0.0</td>\n",
       "      <td>0.0</td>\n",
       "      <td>0.0</td>\n",
       "      <td>0.0</td>\n",
       "      <td>0.0</td>\n",
       "      <td>0.0</td>\n",
       "      <td>0.0</td>\n",
       "      <td>0.0</td>\n",
       "      <td>0.0</td>\n",
       "      <td>0.0</td>\n",
       "    </tr>\n",
       "    <tr>\n",
       "      <th>...</th>\n",
       "      <td>...</td>\n",
       "      <td>...</td>\n",
       "      <td>...</td>\n",
       "      <td>...</td>\n",
       "      <td>...</td>\n",
       "      <td>...</td>\n",
       "      <td>...</td>\n",
       "      <td>...</td>\n",
       "      <td>...</td>\n",
       "      <td>...</td>\n",
       "      <td>...</td>\n",
       "      <td>...</td>\n",
       "      <td>...</td>\n",
       "      <td>...</td>\n",
       "      <td>...</td>\n",
       "      <td>...</td>\n",
       "      <td>...</td>\n",
       "      <td>...</td>\n",
       "      <td>...</td>\n",
       "      <td>...</td>\n",
       "      <td>...</td>\n",
       "    </tr>\n",
       "    <tr>\n",
       "      <th>1495</th>\n",
       "      <td>0.0</td>\n",
       "      <td>0.0</td>\n",
       "      <td>0.0</td>\n",
       "      <td>0.0</td>\n",
       "      <td>0.0</td>\n",
       "      <td>0.0</td>\n",
       "      <td>0.0</td>\n",
       "      <td>0.0</td>\n",
       "      <td>0.0</td>\n",
       "      <td>0.0</td>\n",
       "      <td>...</td>\n",
       "      <td>0.0</td>\n",
       "      <td>0.0</td>\n",
       "      <td>0.0</td>\n",
       "      <td>0.0</td>\n",
       "      <td>0.0</td>\n",
       "      <td>0.0</td>\n",
       "      <td>0.0</td>\n",
       "      <td>0.0</td>\n",
       "      <td>0.0</td>\n",
       "      <td>0.0</td>\n",
       "    </tr>\n",
       "    <tr>\n",
       "      <th>1496</th>\n",
       "      <td>0.0</td>\n",
       "      <td>0.0</td>\n",
       "      <td>0.0</td>\n",
       "      <td>0.0</td>\n",
       "      <td>0.0</td>\n",
       "      <td>0.0</td>\n",
       "      <td>0.0</td>\n",
       "      <td>0.0</td>\n",
       "      <td>0.0</td>\n",
       "      <td>0.0</td>\n",
       "      <td>...</td>\n",
       "      <td>0.0</td>\n",
       "      <td>0.0</td>\n",
       "      <td>0.0</td>\n",
       "      <td>0.0</td>\n",
       "      <td>0.0</td>\n",
       "      <td>0.0</td>\n",
       "      <td>0.0</td>\n",
       "      <td>0.0</td>\n",
       "      <td>0.0</td>\n",
       "      <td>0.0</td>\n",
       "    </tr>\n",
       "    <tr>\n",
       "      <th>1497</th>\n",
       "      <td>0.0</td>\n",
       "      <td>0.0</td>\n",
       "      <td>0.0</td>\n",
       "      <td>0.0</td>\n",
       "      <td>0.0</td>\n",
       "      <td>0.0</td>\n",
       "      <td>0.0</td>\n",
       "      <td>0.0</td>\n",
       "      <td>0.0</td>\n",
       "      <td>0.0</td>\n",
       "      <td>...</td>\n",
       "      <td>0.0</td>\n",
       "      <td>0.0</td>\n",
       "      <td>0.0</td>\n",
       "      <td>0.0</td>\n",
       "      <td>0.0</td>\n",
       "      <td>0.0</td>\n",
       "      <td>0.0</td>\n",
       "      <td>0.0</td>\n",
       "      <td>0.0</td>\n",
       "      <td>0.0</td>\n",
       "    </tr>\n",
       "    <tr>\n",
       "      <th>1498</th>\n",
       "      <td>0.0</td>\n",
       "      <td>0.0</td>\n",
       "      <td>0.0</td>\n",
       "      <td>0.0</td>\n",
       "      <td>0.0</td>\n",
       "      <td>0.0</td>\n",
       "      <td>0.0</td>\n",
       "      <td>0.0</td>\n",
       "      <td>0.0</td>\n",
       "      <td>0.0</td>\n",
       "      <td>...</td>\n",
       "      <td>0.0</td>\n",
       "      <td>0.0</td>\n",
       "      <td>0.0</td>\n",
       "      <td>0.0</td>\n",
       "      <td>0.0</td>\n",
       "      <td>0.0</td>\n",
       "      <td>0.0</td>\n",
       "      <td>0.0</td>\n",
       "      <td>0.0</td>\n",
       "      <td>0.0</td>\n",
       "    </tr>\n",
       "    <tr>\n",
       "      <th>1499</th>\n",
       "      <td>0.0</td>\n",
       "      <td>0.0</td>\n",
       "      <td>0.0</td>\n",
       "      <td>0.0</td>\n",
       "      <td>0.0</td>\n",
       "      <td>0.0</td>\n",
       "      <td>0.0</td>\n",
       "      <td>0.0</td>\n",
       "      <td>0.0</td>\n",
       "      <td>0.0</td>\n",
       "      <td>...</td>\n",
       "      <td>0.0</td>\n",
       "      <td>0.0</td>\n",
       "      <td>0.0</td>\n",
       "      <td>0.0</td>\n",
       "      <td>0.0</td>\n",
       "      <td>0.0</td>\n",
       "      <td>0.0</td>\n",
       "      <td>0.0</td>\n",
       "      <td>0.0</td>\n",
       "      <td>0.0</td>\n",
       "    </tr>\n",
       "  </tbody>\n",
       "</table>\n",
       "<p>1500 rows × 24129 columns</p>\n",
       "</div>"
      ],
      "text/plain": [
       "       一   一 之  一 乘  一 也  一 云  一 井  一 交  一 以  一 作  一 使  ...  龍 為  龍 王  龍 王道  \\\n",
       "0     0.0  0.0  0.0  0.0  0.0  0.0  0.0  0.0  0.0  0.0  ...  0.0  0.0   0.0   \n",
       "1     0.0  0.0  0.0  0.0  0.0  0.0  0.0  0.0  0.0  0.0  ...  0.0  0.0   0.0   \n",
       "2     0.0  0.0  0.0  0.0  0.0  0.0  0.0  0.0  0.0  0.0  ...  0.0  0.0   0.0   \n",
       "3     0.0  0.0  0.0  0.0  0.0  0.0  0.0  0.0  0.0  0.0  ...  0.0  0.0   0.0   \n",
       "4     0.0  0.0  0.0  0.0  0.0  0.0  0.0  0.0  0.0  0.0  ...  0.0  0.0   0.0   \n",
       "...   ...  ...  ...  ...  ...  ...  ...  ...  ...  ...  ...  ...  ...   ...   \n",
       "1495  0.0  0.0  0.0  0.0  0.0  0.0  0.0  0.0  0.0  0.0  ...  0.0  0.0   0.0   \n",
       "1496  0.0  0.0  0.0  0.0  0.0  0.0  0.0  0.0  0.0  0.0  ...  0.0  0.0   0.0   \n",
       "1497  0.0  0.0  0.0  0.0  0.0  0.0  0.0  0.0  0.0  0.0  ...  0.0  0.0   0.0   \n",
       "1498  0.0  0.0  0.0  0.0  0.0  0.0  0.0  0.0  0.0  0.0  ...  0.0  0.0   0.0   \n",
       "1499  0.0  0.0  0.0  0.0  0.0  0.0  0.0  0.0  0.0  0.0  ...  0.0  0.0   0.0   \n",
       "\n",
       "      龍 虎  龍 道  龍 首    龐    龔    龜  龜 每  \n",
       "0     0.0  0.0  0.0  0.0  0.0  0.0  0.0  \n",
       "1     0.0  0.0  0.0  0.0  0.0  0.0  0.0  \n",
       "2     0.0  0.0  0.0  0.0  0.0  0.0  0.0  \n",
       "3     0.0  0.0  0.0  0.0  0.0  0.0  0.0  \n",
       "4     0.0  0.0  0.0  0.0  0.0  0.0  0.0  \n",
       "...   ...  ...  ...  ...  ...  ...  ...  \n",
       "1495  0.0  0.0  0.0  0.0  0.0  0.0  0.0  \n",
       "1496  0.0  0.0  0.0  0.0  0.0  0.0  0.0  \n",
       "1497  0.0  0.0  0.0  0.0  0.0  0.0  0.0  \n",
       "1498  0.0  0.0  0.0  0.0  0.0  0.0  0.0  \n",
       "1499  0.0  0.0  0.0  0.0  0.0  0.0  0.0  \n",
       "\n",
       "[1500 rows x 24129 columns]"
      ]
     },
     "execution_count": 123,
     "metadata": {},
     "output_type": "execute_result"
    }
   ],
   "source": [
    "X_train_cvtfi"
   ]
  },
  {
   "cell_type": "code",
   "execution_count": 124,
   "metadata": {},
   "outputs": [],
   "source": [
    "X_train = X_train_cvtfi.values"
   ]
  },
  {
   "cell_type": "code",
   "execution_count": 125,
   "metadata": {},
   "outputs": [
    {
     "data": {
      "text/plain": [
       "MultinomialNB(alpha=2)"
      ]
     },
     "execution_count": 125,
     "metadata": {},
     "output_type": "execute_result"
    }
   ],
   "source": [
    "m.fit(X_train, y_train)"
   ]
  },
  {
   "cell_type": "markdown",
   "metadata": {},
   "source": [
    "## now for the testdata"
   ]
  },
  {
   "cell_type": "code",
   "execution_count": 126,
   "metadata": {},
   "outputs": [
    {
     "data": {
      "text/plain": [
       "(0.9946666666666667, 0.902)"
      ]
     },
     "execution_count": 126,
     "metadata": {},
     "output_type": "execute_result"
    }
   ],
   "source": [
    "X_test_cv = cv.transform(X_test)\n",
    "X_test_cvtfi = tfi.fit_transform(X_test_cv)\n",
    "X_test_cvtfi = pd.DataFrame(X_test_cvtfi.todense(), columns=cv.get_feature_names())\n",
    "X_test = X_test_cvtfi.values\n",
    "m.predict(X_test)\n",
    "m.score(X_train, y_train), m.score(X_test, y_test)"
   ]
  },
  {
   "cell_type": "code",
   "execution_count": 127,
   "metadata": {},
   "outputs": [
    {
     "data": {
      "text/plain": [
       "(array([3, 4, 3, 3, 3, 3, 2, 1, 3, 2, 3, 3, 4, 3, 1, 4, 1, 3, 2, 3, 1, 4,\n",
       "        4, 2, 2, 1, 4, 1, 2, 1, 1, 2, 4, 2, 2, 2, 2, 1, 2, 4, 1, 3, 3, 3,\n",
       "        3, 4, 3, 4, 4, 4, 4, 3, 2, 1, 3, 2, 3, 2, 4, 3, 1, 1, 3, 3, 3, 2,\n",
       "        3, 2, 4, 3, 4, 4, 4, 4, 3, 3, 3, 3, 3, 2, 1, 3, 1, 1, 3, 3, 2, 1,\n",
       "        1, 1, 1, 2, 1, 3, 4, 2, 3, 3, 2, 1, 4, 1, 2, 1, 3, 4, 4, 3, 4, 3,\n",
       "        2, 1, 3, 1, 1, 2, 3, 3, 4, 3, 3, 3, 3, 3, 2, 3, 3, 3, 4, 2, 1, 2,\n",
       "        4, 1, 3, 3, 4, 1, 4, 1, 2, 1, 4, 3, 2, 3, 3, 4, 3, 4, 2, 1, 4, 3,\n",
       "        1, 2, 3, 4, 2, 3, 3, 4, 3, 2, 1, 4, 1, 1, 3, 2, 3, 3, 1, 4, 1, 2,\n",
       "        2, 2, 2, 3, 2, 4, 3, 1, 3, 4, 3, 3, 3, 2, 1, 4, 3, 2, 1, 1, 1, 1,\n",
       "        2, 2, 2, 3, 4, 3, 4, 2, 3, 4, 3, 2, 3, 4, 1, 1, 1, 1, 2, 1, 4, 2,\n",
       "        3, 4, 3, 1, 4, 1, 2, 3, 1, 4, 3, 3, 4, 2, 1, 3, 2, 3, 3, 4, 4, 2,\n",
       "        2, 4, 1, 1, 3, 2, 4, 3, 1, 1, 3, 4, 4, 3, 3, 4, 4, 1, 3, 4, 1, 3,\n",
       "        4, 3, 2, 3, 3, 3, 1, 3, 2, 2, 3, 2, 1, 4, 1, 3, 1, 4, 2, 4, 3, 3,\n",
       "        4, 1, 3, 3, 3, 3, 4, 2, 4, 1, 2, 2, 3, 2, 1, 4, 4, 4, 2, 3, 4, 2,\n",
       "        4, 3, 4, 1, 1, 3, 3, 1, 2, 2, 1, 2, 4, 1, 1, 4, 4, 1, 1, 4, 1, 2,\n",
       "        1, 4, 3, 2, 3, 1, 2, 1, 2, 1, 1, 1, 3, 4, 1, 1, 2, 1, 3, 3, 1, 1,\n",
       "        4, 2, 1, 1, 2, 2, 2, 4, 1, 2, 3, 4, 4, 1, 3, 3, 2, 1, 3, 3, 1, 2,\n",
       "        1, 1, 4, 3, 4, 1, 1, 1, 2, 4, 1, 3, 1, 2, 4, 4, 2, 4, 2, 4, 3, 1,\n",
       "        2, 1, 4, 4, 1, 2, 2, 1, 2, 4, 1, 3, 2, 1, 3, 4, 1, 1, 1, 1, 4, 4,\n",
       "        3, 4, 4, 2, 4, 2, 1, 1, 3, 3, 1, 2, 1, 4, 2, 2, 1, 2, 4, 4, 3, 1,\n",
       "        3, 3, 1, 1, 4, 4, 2, 3, 2, 1, 2, 3, 1, 2, 3, 3, 1, 2, 2, 4, 2, 3,\n",
       "        4, 3, 1, 2, 3, 4, 4, 1, 2, 2, 3, 1, 3, 1, 4, 1, 4, 4, 1, 2, 2, 2,\n",
       "        4, 1, 1, 1, 2, 2, 2, 2, 1, 3, 1, 2, 3, 4, 1, 2], dtype=int64),\n",
       " 674     2\n",
       " 1699    4\n",
       " 1282    3\n",
       " 1315    3\n",
       " 1210    3\n",
       "        ..\n",
       " 537     2\n",
       " 1450    3\n",
       " 1919    4\n",
       " 255     1\n",
       " 589     2\n",
       " Length: 500, dtype: int64)"
      ]
     },
     "execution_count": 127,
     "metadata": {},
     "output_type": "execute_result"
    }
   ],
   "source": [
    "m.predict(X_test), y_test"
   ]
  },
  {
   "cell_type": "markdown",
   "metadata": {},
   "source": [
    "## logistic regression CV"
   ]
  },
  {
   "cell_type": "code",
   "execution_count": 128,
   "metadata": {},
   "outputs": [
    {
     "data": {
      "text/plain": [
       "(1.0, 0.954)"
      ]
     },
     "execution_count": 128,
     "metadata": {},
     "output_type": "execute_result"
    }
   ],
   "source": [
    "m_lrcv = LogisticRegressionCV(cv=5, max_iter=10000)\n",
    "m_lrcv.fit(X_train, y_train)\n",
    "m_lrcv.score(X_train, y_train), m_lrcv.score(X_test, y_test)"
   ]
  },
  {
   "cell_type": "code",
   "execution_count": 129,
   "metadata": {},
   "outputs": [],
   "source": [
    "#m.predict_proba(X_test)"
   ]
  },
  {
   "cell_type": "markdown",
   "metadata": {},
   "source": [
    "## confusion matrix based on our results and heatmap thereof"
   ]
  },
  {
   "cell_type": "code",
   "execution_count": 130,
   "metadata": {},
   "outputs": [
    {
     "name": "stdout",
     "output_type": "stream",
     "text": [
      "[[118   2   3   0]\n",
      " [  5 110  11   6]\n",
      " [  2   1 118   0]\n",
      " [  8   2   9 105]]\n"
     ]
    }
   ],
   "source": [
    "#def print_evaluations(ytrue, ypred, model):\n",
    "#    \n",
    "#    \"\"\"\n",
    "#    Function that compares several scores for a given model \n",
    "#    and returns the confusion matrix.\n",
    "#    \"\"\"\n",
    "#    \n",
    "#    print(f'How does model {model} score:')\n",
    "#    print(f'The accuracy of the model is: {round(accuracy_score(ytrue, ypred), 3)}')\n",
    "#    print(f'The precision of the model is: {round(precision_score(ytrue, ypred), 3)}')\n",
    "#    print(f'The recall of the model is: {round(recall_score(ytrue, ypred), 3)}')\n",
    "#    print(f'The f1-score of the model is: {round(f1_score(ytrue, ypred), 3)}')\n",
    "#    \n",
    "cm = confusion_matrix(y_test, m.predict(X_test))\n",
    "print(cm)\n",
    "#return cm\n",
    "    "
   ]
  },
  {
   "cell_type": "code",
   "execution_count": 131,
   "metadata": {},
   "outputs": [],
   "source": [
    "def plot_heatmap(cm):\n",
    "    \n",
    "    \"\"\"\n",
    "    Function that plots a heatmap based on a correlation matrix\n",
    "    \"\"\"\n",
    "    \n",
    "    fig = plt.figure(figsize=(6, 6))\n",
    "    ax = plt.subplot()\n",
    "    sns.heatmap(cm, annot=True,  cbar=True, \\\n",
    "                cmap = 'coolwarm', vmax = 100,\\\n",
    "               xticklabels=['Tang', 'Song', 'Ming', 'Qing'],\\\n",
    "                yticklabels=['Tang', 'Song', 'Ming', 'Qing'],\\\n",
    "                linecolor='white',\\\n",
    "               linewidth=2, square = True, fmt = '.0f', robust = True); \n",
    "    ax.set_xticklabels(['Tang', 'Song', 'Ming', 'Qing'])"
   ]
  },
  {
   "cell_type": "code",
   "execution_count": 132,
   "metadata": {},
   "outputs": [
    {
     "name": "stdout",
     "output_type": "stream",
     "text": [
      "0.902\n",
      "0.9078967955178092\n",
      "0.902\n",
      "0.9015247045058816\n",
      "0.9946666666666667 0.902\n",
      "0.09266666666666667 0.9068364611260054\n"
     ]
    }
   ],
   "source": [
    "#cm = print_evaluations(y_test, m.predict(X_test), 'NaiveBayes')\n",
    "print(accuracy_score(y_test, m.predict(X_test)))\n",
    "print(precision_score(y_test, m.predict(X_test), average='weighted'))\n",
    "print(recall_score(y_test, m.predict(X_test), average='weighted'))\n",
    "print(f1_score(y_test, m.predict(X_test), average='weighted'))\n",
    "print(m.score(X_train, y_train), m.score(X_test, y_test))\n",
    "print(m.score(X_train, y_train) - m.score(X_test, y_test), m.score(X_test, y_test) / m.score(X_train,  y_train))"
   ]
  },
  {
   "cell_type": "code",
   "execution_count": 133,
   "metadata": {},
   "outputs": [
    {
     "data": {
      "image/png": "[encoded data removed]",
      "text/plain": [
       "<Figure size 432x432 with 2 Axes>"
      ]
     },
     "metadata": {
      "needs_background": "light"
     },
     "output_type": "display_data"
    }
   ],
   "source": [
    "plot_heatmap(cm)"
   ]
  },
  {
   "cell_type": "code",
   "execution_count": 134,
   "metadata": {},
   "outputs": [
    {
     "name": "stdout",
     "output_type": "stream",
     "text": [
      "0.954\n",
      "0.9553177611745238\n",
      "0.954\n",
      "0.9539810517861443\n",
      "1.0 0.954\n",
      "0.04600000000000004 0.954\n"
     ]
    }
   ],
   "source": [
    "#cm = print_evaluations(y_test, m_lrcv.predict(X_test), 'LogisticRegressionCV')\n",
    "print(accuracy_score(y_test, m_lrcv.predict(X_test)))\n",
    "print(precision_score(y_test, m_lrcv.predict(X_test), average='weighted'))\n",
    "print(recall_score(y_test, m_lrcv.predict(X_test), average='weighted'))\n",
    "print(f1_score(y_test, m_lrcv.predict(X_test), average='weighted'))\n",
    "print(m_lrcv.score(X_train, y_train), m_lrcv.score(X_test, y_test))\n",
    "print(m_lrcv.score(X_train, y_train) - m_lrcv.score(X_test, y_test), m_lrcv.score(X_test, y_test) / m_lrcv.score(X_train,  y_train))"
   ]
  },
  {
   "cell_type": "code",
   "execution_count": 135,
   "metadata": {},
   "outputs": [],
   "source": [
    "cm_lrcv = confusion_matrix(y_test, m_lrcv.predict(X_test))"
   ]
  },
  {
   "cell_type": "code",
   "execution_count": 138,
   "metadata": {},
   "outputs": [
    {
     "data": {
      "image/png": "[encoded data removed]",
      "text/plain": [
       "<Figure size 432x432 with 2 Axes>"
      ]
     },
     "metadata": {
      "needs_background": "light"
     },
     "output_type": "display_data"
    }
   ],
   "source": [
    "plot_heatmap(cm_lrcv)\n",
    "plt.savefig('conf_lr_tr.jpg', dpi=300)"
   ]
  },
  {
   "cell_type": "code",
   "execution_count": 137,
   "metadata": {},
   "outputs": [
    {
     "data": {
      "text/plain": [
       "'\\n\\nbaseline:\\n1.0 0.894\\n0.10599999999999998 0.894\\n\\nwith cut_all= True:\\n\\n1.0 0.93\\n0.06999999999999995 0.93\\n\\nABSOLUTE HIGHSCORE!!!!\\n\\nwith words = jieba.lcut(text, cut_all=True, HMM=False):\\nno difference:\\n1.0 0.93\\n0.06999999999999995 0.93\\n\\n\\n\\nm = MultinomialNB(alpha=1)\\ncv = CountVectorizer(tokenizer=tokenize_zh, min_df=2, max_df=30, ngram_range=(1,2))\\nNEW HIGSCORE!!!!!!!!!!!!!!\\n1.0 0.954\\n0.04600000000000004 0.954\\n\\n\\n\\nm = MultinomialNB(alpha=1.1)\\ncv = CountVectorizer(tokenizer=tokenize_zh, min_df=2, max_df=30, ngram_range=(1,2))\\nraised alpha changes nothing.\\n\\n\\n\\n\\n\\n\\n\\n'"
      ]
     },
     "execution_count": 137,
     "metadata": {},
     "output_type": "execute_result"
    }
   ],
   "source": [
    "'''\n",
    "\n",
    "baseline:\n",
    "1.0 0.894\n",
    "0.10599999999999998 0.894\n",
    "\n",
    "with cut_all= True:\n",
    "\n",
    "1.0 0.93\n",
    "0.06999999999999995 0.93\n",
    "\n",
    "ABSOLUTE HIGHSCORE!!!!\n",
    "\n",
    "with words = jieba.lcut(text, cut_all=True, HMM=False):\n",
    "no difference:\n",
    "1.0 0.93\n",
    "0.06999999999999995 0.93\n",
    "\n",
    "\n",
    "\n",
    "m = MultinomialNB(alpha=1)\n",
    "cv = CountVectorizer(tokenizer=tokenize_zh, min_df=2, max_df=30, ngram_range=(1,2))\n",
    "NEW HIGSCORE!!!!!!!!!!!!!!\n",
    "1.0 0.954\n",
    "0.04600000000000004 0.954\n",
    "\n",
    "\n",
    "\n",
    "m = MultinomialNB(alpha=1.1)\n",
    "cv = CountVectorizer(tokenizer=tokenize_zh, min_df=2, max_df=30, ngram_range=(1,2))\n",
    "raised alpha changes nothing.\n",
    "\n",
    "\n",
    "\n",
    "\n",
    "\n",
    "\n",
    "\n",
    "'''"
   ]
  }
 ],
 "metadata": {
  "kernelspec": {
   "display_name": "Python 3",
   "language": "python",
   "name": "python3"
  },
  "language_info": {
   "codemirror_mode": {
    "name": "ipython",
    "version": 3
   },
   "file_extension": ".py",
   "mimetype": "text/x-python",
   "name": "python",
   "nbconvert_exporter": "python",
   "pygments_lexer": "ipython3",
   "version": "3.7.6"
  }
 },
 "nbformat": 4,
 "nbformat_minor": 4
}
